{
 "cells": [
  {
   "cell_type": "code",
   "execution_count": 4,
   "metadata": {},
   "outputs": [],
   "source": [
    "# !pip install hmmlearn\n",
    "import numpy as np\n",
    "import yfinance as yf\n",
    "from hmmlearn import hmm"
   ]
  },
  {
   "cell_type": "code",
   "execution_count": 5,
   "metadata": {},
   "outputs": [
    {
     "name": "stderr",
     "output_type": "stream",
     "text": [
      "[*********************100%%**********************]  1 of 1 completed\n"
     ]
    }
   ],
   "source": [
    "# Fetch historical stock data for Apple Inc. (AAPL)\n",
    "stock_data = yf.download('AAPL', start='2020-01-01', end='2022-01-01')\n",
    "stock_data['Price_Change'] = stock_data['Close'].pct_change().fillna(0)\n"
   ]
  },
  {
   "cell_type": "code",
   "execution_count": 6,
   "metadata": {},
   "outputs": [],
   "source": [
    "# Define states for the Hidden Markov Model\n",
    "states = ['Increase', 'Decrease', 'No Change']"
   ]
  },
  {
   "cell_type": "code",
   "execution_count": 7,
   "metadata": {},
   "outputs": [],
   "source": [
    "# Function to encode price changes into states\n",
    "def encode_states(price_change):\n",
    "    if price_change > 0:\n",
    "        return 0  # Increase\n",
    "    elif price_change < 0:\n",
    "        return 1  # Decrease\n",
    "    else:\n",
    "        return 2  # No Change"
   ]
  },
  {
   "cell_type": "code",
   "execution_count": 8,
   "metadata": {},
   "outputs": [],
   "source": [
    "# Apply encoding function to create 'State' column\n",
    "stock_data['State'] = stock_data['Price_Change'].apply(encode_states)\n",
    "\n",
    "# Prepare training data\n",
    "X_train = stock_data['State'].values.reshape(-1, 1)"
   ]
  },
  {
   "cell_type": "code",
   "execution_count": 9,
   "metadata": {},
   "outputs": [
    {
     "name": "stderr",
     "output_type": "stream",
     "text": [
      "MultinomialHMM has undergone major changes. The previous version was implementing a CategoricalHMM (a special case of MultinomialHMM). This new implementation follows the standard definition for a Multinomial distribution (e.g. as in https://en.wikipedia.org/wiki/Multinomial_distribution). See these issues for details:\n",
      "https://github.com/hmmlearn/hmmlearn/issues/335\n",
      "https://github.com/hmmlearn/hmmlearn/issues/340\n"
     ]
    },
    {
     "name": "stdout",
     "output_type": "stream",
     "text": [
      "Predicted Movement for Next Trading Day: Decrease\n"
     ]
    }
   ],
   "source": [
    "# Initialize Hidden Markov Model\n",
    "model = hmm.MultinomialHMM(n_components=3, n_iter=100)\n",
    "\n",
    "# Fit the model to the training data\n",
    "model.fit(X_train)\n",
    "\n",
    "# Predict the state for the next trading day\n",
    "predicted_state = model.predict(X_train[-1].reshape(1, -1))\n",
    "predicted_movement = states[predicted_state[0]]\n",
    "\n",
    "# Print the predicted movement for the next trading day\n",
    "print(\"Predicted Movement for Next Trading Day:\", predicted_movement)"
   ]
  },
  {
   "cell_type": "code",
   "execution_count": null,
   "metadata": {},
   "outputs": [],
   "source": []
  }
 ],
 "metadata": {
  "kernelspec": {
   "display_name": "Python 3",
   "language": "python",
   "name": "python3"
  },
  "language_info": {
   "codemirror_mode": {
    "name": "ipython",
    "version": 3
   },
   "file_extension": ".py",
   "mimetype": "text/x-python",
   "name": "python",
   "nbconvert_exporter": "python",
   "pygments_lexer": "ipython3",
   "version": "3.9.13"
  }
 },
 "nbformat": 4,
 "nbformat_minor": 2
}
