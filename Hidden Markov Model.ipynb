{
 "cells": [
  {
   "cell_type": "code",
   "execution_count": 1,
   "metadata": {},
   "outputs": [],
   "source": [
    "import numpy as np\n",
    "import pandas as pd\n",
    "from hmmlearn import hmm"
   ]
  },
  {
   "cell_type": "code",
   "execution_count": 2,
   "metadata": {},
   "outputs": [],
   "source": [
    "# Generate sample weather data\n",
    "# Let's assume we have daily temperature data for a city\n",
    "np.random.seed(0)\n",
    "dates = pd.date_range(start='2020-01-01', end='2022-01-01', freq='D')\n",
    "temperature = np.random.normal(loc=20, scale=5, size=len(dates))"
   ]
  },
  {
   "cell_type": "code",
   "execution_count": 3,
   "metadata": {},
   "outputs": [],
   "source": [
    "# Define states for the Hidden Markov Model\n",
    "states = ['Cold', 'Mild', 'Hot']"
   ]
  },
  {
   "cell_type": "code",
   "execution_count": 4,
   "metadata": {},
   "outputs": [],
   "source": [
    "# Function to encode temperature into weather states\n",
    "def encode_states(temp):\n",
    "    if temp < 15:\n",
    "        return 0  # Cold\n",
    "    elif temp >= 15 and temp < 25:\n",
    "        return 1  # Mild\n",
    "    else:\n",
    "        return 2  # Hot"
   ]
  },
  {
   "cell_type": "code",
   "execution_count": 5,
   "metadata": {},
   "outputs": [],
   "source": [
    "# Apply encoding function to create 'State' column\n",
    "weather_data = pd.DataFrame({'Date': dates, 'Temperature': temperature})\n",
    "weather_data['State'] = weather_data['Temperature'].apply(encode_states)"
   ]
  },
  {
   "cell_type": "code",
   "execution_count": 6,
   "metadata": {},
   "outputs": [
    {
     "name": "stderr",
     "output_type": "stream",
     "text": [
      "MultinomialHMM has undergone major changes. The previous version was implementing a CategoricalHMM (a special case of MultinomialHMM). This new implementation follows the standard definition for a Multinomial distribution (e.g. as in https://en.wikipedia.org/wiki/Multinomial_distribution). See these issues for details:\n",
      "https://github.com/hmmlearn/hmmlearn/issues/335\n",
      "https://github.com/hmmlearn/hmmlearn/issues/340\n"
     ]
    }
   ],
   "source": [
    "# Prepare training data\n",
    "X_train = weather_data['State'].values.reshape(-1, 1)\n",
    "\n",
    "# Initialize Hidden Markov Model\n",
    "model = hmm.MultinomialHMM(n_components=3, n_iter=100)"
   ]
  },
  {
   "cell_type": "code",
   "execution_count": 7,
   "metadata": {},
   "outputs": [
    {
     "name": "stdout",
     "output_type": "stream",
     "text": [
      "Predicted Weather for Next Day: Hot\n"
     ]
    }
   ],
   "source": [
    "# Fit the model to the training data\n",
    "model.fit(X_train)\n",
    "\n",
    "# Predict the weather state for the next day\n",
    "predicted_state = model.predict(X_train[-1].reshape(1, -1))\n",
    "predicted_weather = states[predicted_state[0]]\n",
    "\n",
    "# Print the predicted weather for the next day\n",
    "print(\"Predicted Weather for Next Day:\", predicted_weather)"
   ]
  },
  {
   "cell_type": "code",
   "execution_count": null,
   "metadata": {},
   "outputs": [],
   "source": []
  }
 ],
 "metadata": {
  "kernelspec": {
   "display_name": "Python 3",
   "language": "python",
   "name": "python3"
  },
  "language_info": {
   "codemirror_mode": {
    "name": "ipython",
    "version": 3
   },
   "file_extension": ".py",
   "mimetype": "text/x-python",
   "name": "python",
   "nbconvert_exporter": "python",
   "pygments_lexer": "ipython3",
   "version": "3.9.13"
  }
 },
 "nbformat": 4,
 "nbformat_minor": 2
}
