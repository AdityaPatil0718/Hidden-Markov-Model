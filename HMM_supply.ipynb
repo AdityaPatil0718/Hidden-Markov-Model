{
 "cells": [
  {
   "cell_type": "code",
   "execution_count": 1,
   "metadata": {},
   "outputs": [],
   "source": [
    "import numpy as np\n",
    "import pandas as pd\n",
    "from hmmlearn import hmm"
   ]
  },
  {
   "cell_type": "code",
   "execution_count": 2,
   "metadata": {},
   "outputs": [],
   "source": [
    "# Generate sample supply chain data\n",
    "# Let's assume we have daily observations of the product state for a certain period\n",
    "np.random.seed(0)\n",
    "dates = pd.date_range(start='2020-01-01', end='2022-01-01', freq='D')\n",
    "states = ['In Stock', 'In Transit', 'Out of Stock']\n",
    "observations = np.random.choice(states, size=len(dates), p=[0.6, 0.3, 0.1])"
   ]
  },
  {
   "cell_type": "code",
   "execution_count": 3,
   "metadata": {},
   "outputs": [
    {
     "name": "stderr",
     "output_type": "stream",
     "text": [
      "MultinomialHMM has undergone major changes. The previous version was implementing a CategoricalHMM (a special case of MultinomialHMM). This new implementation follows the standard definition for a Multinomial distribution (e.g. as in https://en.wikipedia.org/wiki/Multinomial_distribution). See these issues for details:\n",
      "https://github.com/hmmlearn/hmmlearn/issues/335\n",
      "https://github.com/hmmlearn/hmmlearn/issues/340\n"
     ]
    }
   ],
   "source": [
    "# Prepare training data\n",
    "X_train = np.array([[states.index(obs)] for obs in observations])\n",
    "\n",
    "# Initialize Hidden Markov Model\n",
    "model = hmm.MultinomialHMM(n_components=len(states), n_iter=100)"
   ]
  },
  {
   "cell_type": "code",
   "execution_count": 4,
   "metadata": {},
   "outputs": [
    {
     "name": "stdout",
     "output_type": "stream",
     "text": [
      "Predicted Supply Chain State for Next Day: In Transit\n"
     ]
    }
   ],
   "source": [
    "# Fit the model to the training data\n",
    "model.fit(X_train)\n",
    "\n",
    "# Predict the state for the next day\n",
    "predicted_state = model.predict(X_train[-1].reshape(1, -1))\n",
    "predicted_supply_state = states[predicted_state[0]]\n",
    "\n",
    "# Print the predicted supply chain state for the next day\n",
    "print(\"Predicted Supply Chain State for Next Day:\", predicted_supply_state)"
   ]
  },
  {
   "cell_type": "code",
   "execution_count": null,
   "metadata": {},
   "outputs": [],
   "source": []
  }
 ],
 "metadata": {
  "kernelspec": {
   "display_name": "Python 3",
   "language": "python",
   "name": "python3"
  },
  "language_info": {
   "codemirror_mode": {
    "name": "ipython",
    "version": 3
   },
   "file_extension": ".py",
   "mimetype": "text/x-python",
   "name": "python",
   "nbconvert_exporter": "python",
   "pygments_lexer": "ipython3",
   "version": "3.9.13"
  }
 },
 "nbformat": 4,
 "nbformat_minor": 2
}
